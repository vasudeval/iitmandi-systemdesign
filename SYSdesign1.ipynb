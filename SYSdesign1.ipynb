{
 "cells": [
  {
   "cell_type": "code",
   "execution_count": 1,
   "metadata": {},
   "outputs": [],
   "source": [
    "import os\n",
    "import librosa as lb\n",
    "import librosa.display\n",
    "import IPython.display as ipd\n",
    "import matplotlib.pyplot as plt\n",
    "import numpy as np\n",
    "import math as m\n",
    "import pandas as pd\n",
    "import statistics\n",
    "from statistics import mode\n",
    "import speech_recognition as sr"
   ]
  },
  {
   "cell_type": "code",
   "execution_count": 2,
   "metadata": {},
   "outputs": [],
   "source": [
    "directory='recordings2'\n",
    "\n",
    "mfccarray=[]\n",
    "for filename in os.listdir(directory):\n",
    "    audio_file=directory+'/'+filename\n",
    "    x,fs = lb.load(audio_file,sr=20000)\n",
    "    #print(1)\n",
    "    #Extracting MFCCs\n",
    "    mfccs=librosa.feature.mfcc(x,n_mfcc=13,sr=fs,hop_length=int(0.010*fs),n_fft=int(0.02*fs))\n",
    "    delta_mfcc=librosa.feature.delta(mfccs)\n",
    "    delta2_mfcc=librosa.feature.delta(mfccs,order=2)\n",
    "    comprehensive_mfcc=np.concatenate((mfccs,delta_mfcc,delta2_mfcc))\n",
    "    mfccarray.append(comprehensive_mfcc.T)\n",
    "    \n",
    "\n",
    "    \n",
    "    \n",
    "    "
   ]
  },
  {
   "cell_type": "code",
   "execution_count": 3,
   "metadata": {},
   "outputs": [
    {
     "name": "stdout",
     "output_type": "stream",
     "text": [
      "500\n"
     ]
    }
   ],
   "source": [
    "print(len(mfccarray))"
   ]
  },
  {
   "cell_type": "code",
   "execution_count": 4,
   "metadata": {},
   "outputs": [
    {
     "name": "stdout",
     "output_type": "stream",
     "text": [
      "500\n"
     ]
    }
   ],
   "source": [
    "array_y=[]\n",
    "for i in range(10):\n",
    "    a=[i]*50\n",
    "    array_y=array_y+a\n",
    "print(len(array_y))"
   ]
  },
  {
   "cell_type": "code",
   "execution_count": 5,
   "metadata": {},
   "outputs": [
    {
     "name": "stdout",
     "output_type": "stream",
     "text": [
      "(60, 39)\n"
     ]
    }
   ],
   "source": [
    "print(mfccarray[1].shape)"
   ]
  },
  {
   "cell_type": "code",
   "execution_count": 6,
   "metadata": {},
   "outputs": [
    {
     "data": {
      "image/png": "[encoded data removed]",
      "text/plain": [
       "<Figure size 1800x720 with 2 Axes>"
      ]
     },
     "metadata": {
      "needs_background": "light"
     },
     "output_type": "display_data"
    }
   ],
   "source": [
    "#MFCC plot of a frame\n",
    "plt.figure(figsize=(25,10))\n",
    "librosa.display.specshow(mfccarray[1],x_axis=\"time\",sr=fs)\n",
    "plt.colorbar(format=\"%+2f\")\n",
    "plt.show()\n"
   ]
  },
  {
   "cell_type": "code",
   "execution_count": 7,
   "metadata": {},
   "outputs": [],
   "source": [
    "# Function to calculate Dynamic time warping distance\n",
    "\n",
    "from fastdtw import fastdtw\n",
    "from scipy.spatial.distance import euclidean\n",
    "\n",
    "def distance(x,y):\n",
    "\n",
    "    d, path = fastdtw(x,y, dist=euclidean)\n",
    "    return d\n",
    "\n",
    "#print(distance)\n",
    "#print(path)"
   ]
  },
  {
   "cell_type": "code",
   "execution_count": 8,
   "metadata": {},
   "outputs": [],
   "source": [
    "#Splitting tran and test data\n",
    "from sklearn.model_selection import train_test_split\n",
    "xtrain,xtest,ytrain,ytest=train_test_split(mfccarray,array_y,test_size=0.3,random_state=5)"
   ]
  },
  {
   "cell_type": "code",
   "execution_count": 9,
   "metadata": {},
   "outputs": [],
   "source": [
    "# Algorithm for KNN\n",
    "def knn(k,digit):\n",
    "    dict_index={}\n",
    "    ind_list=list(range(350))\n",
    "    DTW_list=[]\n",
    "    for i in xtrain:\n",
    "        DTW_list.append(distance(digit,i))\n",
    "    for i in range(len(ind_list)):\n",
    "        #print(1)\n",
    "        dict_index[DTW_list[i]]=ind_list[i]\n",
    "    key_list=list(dict_index.keys())\n",
    "    key_list.sort()\n",
    "    k_key_list=key_list[0:k]\n",
    "    y_index=[]\n",
    "    for i in k_key_list:\n",
    "        y_index.append(dict_index[i])\n",
    "    y_list=[]\n",
    "    for i in y_index:\n",
    "        y_list.append(ytrain[i])\n",
    "    digit_utter=mode(y_list)\n",
    "    \n",
    "    return digit_utter\n",
    "    \n",
    "    \n",
    "    \n",
    "        \n",
    "    "
   ]
  },
  {
   "cell_type": "code",
   "execution_count": 10,
   "metadata": {},
   "outputs": [],
   "source": [
    "#Distnce matrix for testing performance\n",
    "\n",
    "dist_mat=np.empty((150,350))\n",
    "#print(dist_mat.shape)\n",
    "for i in range(len(xtest)):\n",
    "    for j in range(len(xtrain)):\n",
    "        dist_mat[i][j]=distance(xtest[i],xtrain[j])\n",
    "\n",
    "\n"
   ]
  },
  {
   "cell_type": "code",
   "execution_count": 11,
   "metadata": {},
   "outputs": [
    {
     "data": {
      "text/plain": [
       "(350,)"
      ]
     },
     "execution_count": 11,
     "metadata": {},
     "output_type": "execute_result"
    }
   ],
   "source": [
    "l11=dist_mat[1][:]\n",
    "l11.shape"
   ]
  },
  {
   "cell_type": "code",
   "execution_count": 10,
   "metadata": {},
   "outputs": [],
   "source": [
    "# function to find accuracy\n",
    "def accuracy(k):\n",
    "    y_pre=[]\n",
    "    \n",
    "    for i in range(len(xtest)):\n",
    "        dict1={}\n",
    "        for j in range(len(xtrain)):\n",
    "            dict1[dist_mat[i][j]]=ytrain[j]\n",
    "        l1=list(dict1.keys())\n",
    "        l1.sort()\n",
    "        l2=l1[0:k]\n",
    "        l3_val=[]\n",
    "        for j in l2:\n",
    "            l3_val.append(dict1[j])\n",
    "        val=mode(l3_val)\n",
    "        y_pre.append(val)\n",
    "            \n",
    "    count=0\n",
    "    for i in range(len(xtest)):\n",
    "        if y_pre[i]==ytest[i]:\n",
    "            count+=1\n",
    "    return count/len(xtest)"
   ]
  },
  {
   "cell_type": "code",
   "execution_count": 22,
   "metadata": {},
   "outputs": [
    {
     "name": "stdout",
     "output_type": "stream",
     "text": [
      "[0.9266666666666666, 0.8933333333333333, 0.8733333333333333, 0.8466666666666667]\n"
     ]
    },
    {
     "data": {
      "text/plain": [
       "Text(0, 0.5, 'Accuracy score')"
      ]
     },
     "execution_count": 22,
     "metadata": {},
     "output_type": "execute_result"
    },
    {
     "data": {
      "image/png": "[encoded data removed]",
      "text/plain": [
       "<Figure size 432x288 with 1 Axes>"
      ]
     },
     "metadata": {
      "needs_background": "light"
     },
     "output_type": "display_data"
    }
   ],
   "source": [
    "#finding k\n",
    "k_range=[1,3,5,7]\n",
    "accuracy_list=[]\n",
    "\n",
    "for i in k_range:\n",
    "    #print(i)\n",
    "    accuracy_list.append(accuracy(i))\n",
    "print(accuracy_list)\n",
    "    \n",
    "plt.plot(k_range,accuracy_list)\n",
    "plt.title(\"Test data accuracy plot\")\n",
    "plt.xlabel(\"K value\")\n",
    "plt.ylabel(\"Accuracy score\")\n",
    "    "
   ]
  },
  {
   "cell_type": "code",
   "execution_count": 14,
   "metadata": {},
   "outputs": [],
   "source": [
    "#find performance using other speakers voice\n",
    "\n",
    "def accuracy_o(k):\n",
    "    y_pre=[]\n",
    "    \n",
    "    for i in range(len(xtest_o)):\n",
    "        dict1={}\n",
    "        for j in range(len(xtrain)):\n",
    "            dict1[dist_mat_o[i][j]]=ytrain[j]\n",
    "        l1=list(dict1.keys())\n",
    "        l1.sort()\n",
    "        l2=l1[0:k]\n",
    "        l3_val=[]\n",
    "        for j in l2:\n",
    "            l3_val.append(dict1[j])\n",
    "        val=mode(l3_val)\n",
    "        y_pre.append(val)\n",
    "            \n",
    "    count=0\n",
    "    for i in range(len(xtest_o)):\n",
    "        if y_pre[i]==ytest_o[i]:\n",
    "            count+=1\n",
    "    #print(y_pre)\n",
    "    return count/len(xtest_o)\n",
    "    "
   ]
  },
  {
   "cell_type": "code",
   "execution_count": 15,
   "metadata": {},
   "outputs": [
    {
     "name": "stdout",
     "output_type": "stream",
     "text": [
      "150\n"
     ]
    }
   ],
   "source": [
    "directory_o='Otherspeakers'\n",
    "\n",
    "xtest_o=[]\n",
    "for filename in os.listdir(directory_o):\n",
    "    audio_file_o=directory_o+'/'+filename\n",
    "    x_o,fs_o = lb.load(audio_file_o,sr=16000)\n",
    "    #print(1)\n",
    "    #Extracting MFCCs\n",
    "    mfccs_o=librosa.feature.mfcc(x_o,n_mfcc=13,sr=fs_o,hop_length=int(0.010*fs_o),n_fft=int(0.02*fs_o))\n",
    "    delta_mfcc_o=librosa.feature.delta(mfccs_o)\n",
    "    delta2_mfcc_o=librosa.feature.delta(mfccs_o,order=2)\n",
    "    comprehensive_mfcc_o=np.concatenate((mfccs_o,delta_mfcc_o,delta2_mfcc_o))\n",
    "    xtest_o.append(comprehensive_mfcc_o.T)\n",
    "print(len(xtest_o))\n",
    "    "
   ]
  },
  {
   "cell_type": "code",
   "execution_count": 16,
   "metadata": {},
   "outputs": [
    {
     "name": "stdout",
     "output_type": "stream",
     "text": [
      "150\n"
     ]
    }
   ],
   "source": [
    "ytest_o=[]\n",
    "for i in range(10):\n",
    "    a=[i]*15\n",
    "    ytest_o=ytest_o+a\n",
    "print(len(ytest_o))"
   ]
  },
  {
   "cell_type": "code",
   "execution_count": 18,
   "metadata": {},
   "outputs": [],
   "source": [
    "#Distnce matrix for others testing performance\n",
    "\n",
    "dist_mat_o=np.empty((150,350))\n",
    "#print(dist_mat.shape)\n",
    "for i in range(len(xtest_o)):\n",
    "    for j in range(len(xtrain)):\n",
    "        dist_mat_o[i][j]=distance(xtest_o[i],xtrain[j])"
   ]
  },
  {
   "cell_type": "code",
   "execution_count": 21,
   "metadata": {},
   "outputs": [
    {
     "name": "stdout",
     "output_type": "stream",
     "text": [
      "[0.6266666666666667, 0.6066666666666667, 0.62, 0.5866666666666667]\n"
     ]
    },
    {
     "data": {
      "text/plain": [
       "Text(0.5, 0, 'K value')"
      ]
     },
     "execution_count": 21,
     "metadata": {},
     "output_type": "execute_result"
    },
    {
     "data": {
      "image/png": "[encoded data removed]",
      "text/plain": [
       "<Figure size 432x288 with 1 Axes>"
      ]
     },
     "metadata": {
      "needs_background": "light"
     },
     "output_type": "display_data"
    }
   ],
   "source": [
    "#finding k\n",
    "k_range_o=[1,3,5,7]\n",
    "accuracy_list_o=[]\n",
    "\n",
    "for i in k_range_o:\n",
    "    #print(i)\n",
    "    accuracy_list_o.append(accuracy_o(i))\n",
    "print(accuracy_list_o)\n",
    "    \n",
    "plt.plot(k_range_o,accuracy_list_o)\n",
    "plt.title(\"Other speakers\")\n",
    "plt.ylabel(\"Accuracy score\")\n",
    "plt.xlabel(\"K value\")"
   ]
  },
  {
   "cell_type": "code",
   "execution_count": 11,
   "metadata": {},
   "outputs": [],
   "source": [
    "#Main program\n",
    "def system_design():\n",
    "    r=sr.Recognizer()\n",
    "    mic1=sr.Microphone(device_index=1)\n",
    "    with mic1 as source:\n",
    "        print(\"speak a digit\")\n",
    "        r.adjust_for_ambient_noise(source)\n",
    "        a=r.listen(source,timeout=None)\n",
    "        print(\"processing\")\n",
    "    \n",
    "        with open('speech.wav','wb') as f:\n",
    "            f.write(a.get_wav_data())\n",
    "    \n",
    "    audio_input='speech.wav'\n",
    "    xi,fsi=lb.load(audio_input,sr=20000)\n",
    "    mfccsi=librosa.feature.mfcc(xi,n_mfcc=13,sr=fsi,hop_length=int(0.010*fsi),n_fft=int(0.02*fsi))\n",
    "    delta_mfcci=librosa.feature.delta(mfccsi)\n",
    "    delta2_mfcci=librosa.feature.delta(mfccsi,order=2)\n",
    "    comprehensive_mfcci=np.concatenate((mfccsi,delta_mfcci,delta2_mfcci))\n",
    "    comp_input=comprehensive_mfcci.T\n",
    "    os.remove(\"speech.wav\")\n",
    "    #print(1)\n",
    "    dig=knn(1,comp_input)\n",
    "\n",
    "\n",
    "    if dig==0:\n",
    "        print(\"The digit uttered is zero 0\")\n",
    "    elif dig==1:\n",
    "        print(\"The digit uttered is one 1\")\n",
    "    elif dig==2:\n",
    "        print(\"The digit uttered is two 2\")\n",
    "    elif dig==3:\n",
    "        print(\"The digit uttered is three 3\")\n",
    "    elif dig==4:\n",
    "        print(\"The digit uttered is four 4\")\n",
    "    elif dig==5:\n",
    "        print(\"The digit uttered is five 5\")\n",
    "    elif dig==6:\n",
    "        print(\"The digit uttered is six 6\")\n",
    "    elif dig==7:\n",
    "        print(\"The digit uttered is seven 7\")\n",
    "    elif dig==8:\n",
    "        print(\"The digit uttered is eight 8\")\n",
    "    elif dig==9:\n",
    "        print(\"The digit uttered is nine 9\")\n"
   ]
  },
  {
   "cell_type": "code",
   "execution_count": 13,
   "metadata": {},
   "outputs": [
    {
     "name": "stdout",
     "output_type": "stream",
     "text": [
      "0_george_30.wav\n",
      "The digit uttered is zero 0\n",
      "1_george_30.wav\n",
      "The digit uttered is five 5\n",
      "2_george_30.wav\n",
      "The digit uttered is two 2\n",
      "3_george_30.wav\n",
      "The digit uttered is three 3\n",
      "4_george_30.wav\n",
      "The digit uttered is four 4\n",
      "5_george_30.wav\n",
      "The digit uttered is five 5\n",
      "6_george_30.wav\n",
      "The digit uttered is three 3\n",
      "7_george_30.wav\n",
      "The digit uttered is five 5\n",
      "8_george_30.wav\n",
      "The digit uttered is three 3\n",
      "9_george_30.wav\n",
      "The digit uttered is five 5\n"
     ]
    }
   ],
   "source": [
    "directory_o1=\"MYvoicedigits/new1\"\n",
    "for filename in os.listdir(directory_o1):\n",
    "    print(filename)\n",
    "    audio_input1=directory_o1+'/'+filename\n",
    "    xi1,fsi1=lb.load(audio_input1,sr=20000)\n",
    "    mfccsi1=librosa.feature.mfcc(xi1,n_mfcc=13,sr=fsi1,hop_length=int(0.010*fsi1),n_fft=int(0.02*fsi1))\n",
    "    delta_mfcci1=librosa.feature.delta(mfccsi1)\n",
    "    delta2_mfcci1=librosa.feature.delta(mfccsi1,order=2)\n",
    "    comprehensive_mfcci1=np.concatenate((mfccsi1,delta_mfcci1,delta2_mfcci1))\n",
    "    comp_input1=comprehensive_mfcci1.T\n",
    "    dig1=knn(1,comp_input1)\n",
    "\n",
    "\n",
    "    if dig1==0:\n",
    "        print(\"The digit uttered is zero 0\")\n",
    "    elif dig1==1:\n",
    "        print(\"The digit uttered is one 1\")\n",
    "    elif dig1==2:\n",
    "        print(\"The digit uttered is two 2\")\n",
    "    elif dig1==3:\n",
    "        print(\"The digit uttered is three 3\")\n",
    "    elif dig1==4:\n",
    "        print(\"The digit uttered is four 4\")\n",
    "    elif dig1==5:\n",
    "        print(\"The digit uttered is five 5\")\n",
    "    elif dig1==6:\n",
    "        print(\"The digit uttered is six 6\")\n",
    "    elif dig1==7:\n",
    "        print(\"The digit uttered is seven 7\")\n",
    "    elif dig1==8:\n",
    "        print(\"The digit uttered is eight 8\")\n",
    "    elif dig1==9:\n",
    "        print(\"The digit uttered is nine 9\")\n"
   ]
  },
  {
   "cell_type": "code",
   "execution_count": 16,
   "metadata": {},
   "outputs": [
    {
     "name": "stdout",
     "output_type": "stream",
     "text": [
      "speak a digit\n",
      "processing\n",
      "The digit uttered is six 6\n"
     ]
    }
   ],
   "source": [
    "\n",
    "# System design project\n",
    "system_design()"
   ]
  },
  {
   "cell_type": "code",
   "execution_count": null,
   "metadata": {},
   "outputs": [],
   "source": []
  },
  {
   "cell_type": "code",
   "execution_count": null,
   "metadata": {},
   "outputs": [],
   "source": []
  }
 ],
 "metadata": {
  "kernelspec": {
   "display_name": "Python 3",
   "language": "python",
   "name": "python3"
  },
  "language_info": {
   "codemirror_mode": {
    "name": "ipython",
    "version": 3
   },
   "file_extension": ".py",
   "mimetype": "text/x-python",
   "name": "python",
   "nbconvert_exporter": "python",
   "pygments_lexer": "ipython3",
   "version": "3.8.3"
  }
 },
 "nbformat": 4,
 "nbformat_minor": 4
}
