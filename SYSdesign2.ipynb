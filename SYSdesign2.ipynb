{
 "cells": [
  {
   "cell_type": "code",
   "execution_count": 1,
   "metadata": {},
   "outputs": [],
   "source": [
    "import os\n",
    "import librosa as lb\n",
    "import librosa.display\n",
    "import IPython.display as ipd\n",
    "import matplotlib.pyplot as plt\n",
    "import numpy as np\n",
    "import math as m\n",
    "import pandas as pd\n",
    "import statistics\n",
    "from statistics import mode\n",
    "import speech_recognition as sr\n",
    "import multiprocessing as mp\n",
    "from multiprocessing import Process,Queue\n"
   ]
  },
  {
   "cell_type": "code",
   "execution_count": 2,
   "metadata": {},
   "outputs": [],
   "source": [
    "directory='recordings2'\n",
    "\n",
    "mfccarray=[]\n",
    "for filename in os.listdir(directory):\n",
    "    audio_file=directory+'/'+filename\n",
    "    x,fs = lb.load(audio_file,sr=20000)\n",
    "    #print(1)\n",
    "    #Extracting MFCCs\n",
    "    mfccs=librosa.feature.mfcc(x,n_mfcc=13,sr=fs,hop_length=int(0.010*fs),n_fft=int(0.02*fs))\n",
    "    delta_mfcc=librosa.feature.delta(mfccs)\n",
    "    delta2_mfcc=librosa.feature.delta(mfccs,order=2)\n",
    "    comprehensive_mfcc=np.concatenate((mfccs,delta_mfcc,delta2_mfcc))\n",
    "    mfccarray.append(comprehensive_mfcc.T)\n",
    "    \n",
    "\n",
    "    \n",
    "    \n",
    "    "
   ]
  },
  {
   "cell_type": "code",
   "execution_count": 3,
   "metadata": {},
   "outputs": [
    {
     "name": "stdout",
     "output_type": "stream",
     "text": [
      "500\n"
     ]
    }
   ],
   "source": [
    "print(len(mfccarray))"
   ]
  },
  {
   "cell_type": "code",
   "execution_count": 4,
   "metadata": {},
   "outputs": [
    {
     "name": "stdout",
     "output_type": "stream",
     "text": [
      "500\n"
     ]
    }
   ],
   "source": [
    "array_y=[]\n",
    "for i in range(10):\n",
    "    a=[i]*50\n",
    "    array_y=array_y+a\n",
    "print(len(array_y))"
   ]
  },
  {
   "cell_type": "code",
   "execution_count": 5,
   "metadata": {},
   "outputs": [
    {
     "name": "stdout",
     "output_type": "stream",
     "text": [
      "(60, 39)\n"
     ]
    }
   ],
   "source": [
    "print(mfccarray[1].shape)"
   ]
  },
  {
   "cell_type": "code",
   "execution_count": 6,
   "metadata": {},
   "outputs": [
    {
     "data": {
      "image/png": "[encoded data removed]",
      "text/plain": [
       "<Figure size 1800x720 with 2 Axes>"
      ]
     },
     "metadata": {
      "needs_background": "light"
     },
     "output_type": "display_data"
    }
   ],
   "source": [
    "#MFCC plot of a frame\n",
    "plt.figure(figsize=(25,10))\n",
    "librosa.display.specshow(mfccarray[1],x_axis=\"time\",sr=fs)\n",
    "plt.colorbar(format=\"%+2f\")\n",
    "plt.show()\n"
   ]
  },
  {
   "cell_type": "code",
   "execution_count": 7,
   "metadata": {},
   "outputs": [],
   "source": [
    "# Function to calculate Dynamic time warping distance\n",
    "\n",
    "from fastdtw import fastdtw\n",
    "from scipy.spatial.distance import euclidean\n",
    "\n",
    "def distance(x,y):\n",
    "\n",
    "    d, path = fastdtw(x,y, dist=euclidean)\n",
    "    return d\n",
    "\n",
    "#print(distance)\n",
    "#print(path)"
   ]
  },
  {
   "cell_type": "code",
   "execution_count": 8,
   "metadata": {},
   "outputs": [],
   "source": [
    "#Splitting tran and test data\n",
    "from sklearn.model_selection import train_test_split\n",
    "xtrain,xtest,ytrain,ytest=train_test_split(mfccarray,array_y,test_size=0.3,random_state=5)"
   ]
  },
  {
   "cell_type": "code",
   "execution_count": 17,
   "metadata": {},
   "outputs": [],
   "source": [
    "# Algorithm for KNN\n",
    "def knn(k,digit):\n",
    "    dict_index={}\n",
    "    ind_list=list(range(350))\n",
    "    #DTW_list=proc(digit)\n",
    "    DTW_list=[]\n",
    "    for i in xtrain:\n",
    "        DTW_list.append(distance(digit,i))\n",
    "    #print(1)    \n",
    "    for i in range(len(ind_list)):\n",
    "        dict_index[DTW_list[i]]=ind_list[i]\n",
    "    key_list=list(dict_index.keys())\n",
    "    key_list.sort()\n",
    "    k_key_list=key_list[0:k]\n",
    "    y_index=[]\n",
    "    for i in k_key_list:\n",
    "        y_index.append(dict_index[i])\n",
    "    y_list=[]\n",
    "    for i in y_index:\n",
    "        y_list.append(ytrain[i])\n",
    "    digit_utter=mode(y_list)\n",
    "    return digit_utter\n",
    "    \n",
    "    \n",
    "    \n",
    "        \n",
    "    "
   ]
  },
  {
   "cell_type": "code",
   "execution_count": 18,
   "metadata": {},
   "outputs": [],
   "source": [
    "#Main program\n",
    "def system_design():\n",
    "    r=sr.Recognizer()\n",
    "    mic1=sr.Microphone(device_index=1)\n",
    "    with mic1 as source:\n",
    "        print(\"speak a digit\")\n",
    "        r.adjust_for_ambient_noise(source)\n",
    "        a=r.listen(source,timeout=None)\n",
    "        print(\"processing\")\n",
    "    \n",
    "        with open('speech.wav','wb') as f:\n",
    "            f.write(a.get_wav_data())\n",
    "    \n",
    "    audio_input='speech.wav'\n",
    "    xi,fsi=lb.load(audio_input,sr=20000)\n",
    "    mfccsi=librosa.feature.mfcc(xi,n_mfcc=13,sr=fsi,hop_length=int(0.010*fsi),n_fft=int(0.02*fsi))\n",
    "    delta_mfcci=librosa.feature.delta(mfccsi)\n",
    "    delta2_mfcci=librosa.feature.delta(mfccsi,order=2)\n",
    "    comprehensive_mfcci=np.concatenate((mfccsi,delta_mfcci,delta2_mfcci))\n",
    "    comp_input=comprehensive_mfcci.T\n",
    "    os.remove(\"speech.wav\")\n",
    "    #print(1)\n",
    "    dig=knn(1,comp_input)\n",
    "\n",
    "\n",
    "    if dig==0:\n",
    "        print(\"The digit uttered is zero 0\")\n",
    "    elif dig==1:\n",
    "        print(\"The digit uttered is one 1\")\n",
    "    elif dig==2:\n",
    "        print(\"The digit uttered is two 2\")\n",
    "    elif dig==3:\n",
    "        print(\"The digit uttered is three 3\")\n",
    "    elif dig==4:\n",
    "        print(\"The digit uttered is four 4\")\n",
    "    elif dig==5:\n",
    "        print(\"The digit uttered is five 5\")\n",
    "    elif dig==6:\n",
    "        print(\"The digit uttered is six 6\")\n",
    "    elif dig==7:\n",
    "        print(\"The digit uttered is seven 7\")\n",
    "    elif dig==8:\n",
    "        print(\"The digit uttered is eight 8\")\n",
    "    elif dig==9:\n",
    "        print(\"The digit uttered is nine 9\")\n"
   ]
  },
  {
   "cell_type": "code",
   "execution_count": 13,
   "metadata": {},
   "outputs": [],
   "source": [
    "\n",
    "# System design project\n",
    "#system_design()"
   ]
  },
  {
   "cell_type": "code",
   "execution_count": null,
   "metadata": {},
   "outputs": [
    {
     "name": "stdout",
     "output_type": "stream",
     "text": [
      "speak a digit\n",
      "processing\n"
     ]
    }
   ],
   "source": [
    "import tkinter\n",
    "from tkinter import *\n",
    "root=Tk()\n",
    "myButton=Button(root,text=\"Click me and speak\",command=system_design)\n",
    "myButton.pack()\n",
    "\n",
    "root.mainloop()"
   ]
  },
  {
   "cell_type": "code",
   "execution_count": null,
   "metadata": {},
   "outputs": [],
   "source": []
  }
 ],
 "metadata": {
  "kernelspec": {
   "display_name": "Python 3",
   "language": "python",
   "name": "python3"
  },
  "language_info": {
   "codemirror_mode": {
    "name": "ipython",
    "version": 3
   },
   "file_extension": ".py",
   "mimetype": "text/x-python",
   "name": "python",
   "nbconvert_exporter": "python",
   "pygments_lexer": "ipython3",
   "version": "3.8.3"
  }
 },
 "nbformat": 4,
 "nbformat_minor": 4
}
